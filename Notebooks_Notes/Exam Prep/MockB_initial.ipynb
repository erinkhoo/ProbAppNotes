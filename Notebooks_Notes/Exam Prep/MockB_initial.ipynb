{
 "cells": [
  {
   "cell_type": "code",
   "execution_count": 2,
   "metadata": {
    "id": "VW3DfPbRv_2b"
   },
   "outputs": [],
   "source": [
    "import numpy as np\n",
    "import pymc3 as pm\n",
    "import scipy.stats as stats\n",
    "import matplotlib.pyplot as plt\n",
    "import pandas as pd"
   ]
  },
  {
   "cell_type": "markdown",
   "metadata": {},
   "source": [
    "# Question 1"
   ]
  },
  {
   "cell_type": "code",
   "execution_count": 3,
   "metadata": {
    "colab": {
     "base_uri": "https://localhost:8080/",
     "height": 932
    },
    "id": "C92CEBfuwGo8",
    "outputId": "2ef114fd-1916-4cc6-cf70-713272dba5ac"
   },
   "outputs": [],
   "source": [
    "df=pd.read_csv(\"data1.csv\")\n",
    "#no need to normalize data\n",
    "x=df['x']\n",
    "y=df['y']"
   ]
  },
  {
   "cell_type": "markdown",
   "metadata": {
    "id": "WDADQC3xUrr5"
   },
   "source": [
    "# Question 2"
   ]
  },
  {
   "cell_type": "code",
   "execution_count": 64,
   "metadata": {
    "id": "63pcKnuo6ZtY"
   },
   "outputs": [],
   "source": [
    "df=pd.read_csv(\"data2_sensor1.csv\")\n",
    "#no need to normalize data\n",
    "x1=df['temperature']\n",
    "y1=df['pressure']\n",
    "df=pd.read_csv(\"data2_sensor2.csv\")\n",
    "#no need to normalize data\n",
    "x2=df['temperature']\n",
    "y2=df['pressure']"
   ]
  },
  {
   "cell_type": "code",
   "execution_count": null,
   "metadata": {
    "id": "MiwBYe4P61C7"
   },
   "outputs": [],
   "source": []
  }
 ],
 "metadata": {
  "colab": {
   "name": "MockB.ipynb",
   "provenance": []
  },
  "kernelspec": {
   "display_name": "Python 3",
   "language": "python",
   "name": "python3"
  },
  "language_info": {
   "codemirror_mode": {
    "name": "ipython",
    "version": 3
   },
   "file_extension": ".py",
   "mimetype": "text/x-python",
   "name": "python",
   "nbconvert_exporter": "python",
   "pygments_lexer": "ipython3",
   "version": "3.6.9"
  },
  "toc": {
   "base_numbering": 1,
   "nav_menu": {},
   "number_sections": true,
   "sideBar": true,
   "skip_h1_title": false,
   "title_cell": "Table of Contents",
   "title_sidebar": "Contents",
   "toc_cell": false,
   "toc_position": {},
   "toc_section_display": true,
   "toc_window_display": false
  }
 },
 "nbformat": 4,
 "nbformat_minor": 1
}
